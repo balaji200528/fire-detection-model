{
  "cells": [
    {
      "cell_type": "code",
      "execution_count": null,
      "id": "b6a878d6",
      "metadata": {
        "vscode": {
          "languageId": "plaintext"
        }
      },
      "outputs": [],
      "source": [
        "{\n",
        "  \"cells\": [],\n",
        "  \"metadata\": {},\n",
        "  \"nbformat\": 4,\n",
        "  \"nbformat_minor\": 5\n",
        "}\n"
      ]
    }
  ],
  "metadata": {
    "language_info": {
      "name": "python"
    }
  },
  "nbformat": 4,
  "nbformat_minor": 5
}
